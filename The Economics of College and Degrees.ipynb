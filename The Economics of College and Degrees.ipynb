{
 "cells": [
  {
   "cell_type": "markdown",
   "metadata": {},
   "source": [
    "# An Overview of Higher Education in the U.S"
   ]
  },
  {
   "cell_type": "markdown",
   "metadata": {},
   "source": [
    "Over the course of the past couple of decades, the higher education system in the United States has evolved from an supplement to advancing one's career, to subconciously making one of the biggest decisions of one's life. I use the word \"subconciously\" because millions of millennials take out loans for thousands or sometimes even hundreds of thousands of dollars with of loans for many reasons that have not been given much thought into.\n",
    "\n",
    "For example, maybe an indiviudual took out 80k to pursue a bachelor's degree in African Studies or Art therapy. Unfortunately for these majors is there is no exisiting market for Art therapy or African Studies majors, or even any demand for these topics in general.\n",
    "\n",
    "It's decisions like these that provoke the questions of basic finance such as return on Investment(ROIs), and basic economics such as opportunity cost. Could that individual have been more prepared if he/she had chose a different degree path? Should that indiviudal have gone to a trade school? A coding bootcamp? Or maybe take a few courses on digital marketing to try to obtain a position somehwhere? \n",
    "\n",
    "All of these are all valid questions but are hardly ever asked, or even cross the mind of the individual's making the decisions, the people paying the tuiton(usually parents), or even the people loaning the money to the individual(e.g. Sallie Mae?,CitiBank?, Wells Fargo?). Why is that? One would think after being in the midst of a country who has accumulated a little over a 1.5 Trillion dollars off student loans with 42 people in the U.S alone who have over 1 million dollars in student loan debt."
   ]
  },
  {
   "cell_type": "markdown",
   "metadata": {},
   "source": [
    "On the contrary, you will encounter people or evidence that raise the argument either; college graduates only make a certain amount more than high school graduates or college graduates make a \"million dollars\" more over a lifetime compared to high school graduates. \n",
    "\n",
    "However, both of these arugments are very misleading and not only provide little no emperical data to suggest this is true (unless the data is \"cherrypicked\") but these arguments are rather very binary perspectives, meaning \"because of this specific reason, this is why college is not worth or is worth it\". The people who usually bring up this argument only look at the price tag and then formulate their opinion strictly off that premise. Perhaps it's more a of a multivariate anlysis that cannot be determined by simply the finances, but rather addition of the economics.\n",
    "\n",
    "Furthermore, in order to truly make an informed decision about a topic as complicated as education. The questions asked would be the most important rather than the emperical data both sides of the \"playing field\" putforth to support their theories. The first question (in my opinion) should be why go to college? More specifically, what is the purpose of it, or what will be gained bu doing so? The end goal, or what is received in return for attending college is a piece of paper, commonly reffered to as a bachelor degree(assuming 4 years of college have been completed) for the time an individual has spent being educated. Why does an individual get a degree in return or what value does it have? \n",
    "\n",
    "In general, most people would all be in agreement of everything so far, but in terms of what value a degree yields is where there is a clear delineation of heads, perspectives, and ideals dispursing in different directions. Which is where raw emperical data and visualizations may help to make an informed opinion."
   ]
  },
  {
   "cell_type": "code",
   "execution_count": null,
   "metadata": {},
   "outputs": [],
   "source": []
  }
 ],
 "metadata": {
  "kernelspec": {
   "display_name": "Python 3",
   "language": "python",
   "name": "python3"
  },
  "language_info": {
   "codemirror_mode": {
    "name": "ipython",
    "version": 3
   },
   "file_extension": ".py",
   "mimetype": "text/x-python",
   "name": "python",
   "nbconvert_exporter": "python",
   "pygments_lexer": "ipython3",
   "version": "3.5.6"
  }
 },
 "nbformat": 4,
 "nbformat_minor": 2
}
